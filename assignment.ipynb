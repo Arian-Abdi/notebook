{
 "cells": [
  {
   "cell_type": "markdown",
   "id": "0dcfd7dd-ea72-4d6f-b68b-8b438c31e92b",
   "metadata": {},
   "source": [
    "# My Jupyter Notebook on IBM Watson Studio"
   ]
  },
  {
   "cell_type": "markdown",
   "id": "0d6363f5-ab2d-4134-907f-238158d6df45",
   "metadata": {},
   "source": [
    "**accidental genius**\n",
    "dietitain"
   ]
  },
  {
   "cell_type": "markdown",
   "id": "efcbde90-4f8d-4eba-830c-f00cdd8c6509",
   "metadata": {},
   "source": [
    "*im interested in data science because its way to creativity* "
   ]
  },
  {
   "cell_type": "markdown",
   "id": "438c02c0-5bb6-49b3-978a-cf8722238fc8",
   "metadata": {},
   "source": [
    "### my code creates a vector form list"
   ]
  },
  {
   "cell_type": "code",
   "execution_count": 17,
   "id": "71d6e910-2834-44cf-8f13-f74fd8412bbf",
   "metadata": {},
   "outputs": [
    {
     "name": "stdout",
     "output_type": "stream",
     "text": [
      "i created a vector from  list:\n",
      "[1 2 3 4 5 6 7 8 9]\n"
     ]
    }
   ],
   "source": [
    "import numpy as np\n",
    "list=[1,2,3,4,5,6,7,8,9]\n",
    "vector=np.array(list)\n",
    "print(\"i created a vector from  list:\")\n",
    "print(vector)"
   ]
  },
  {
   "cell_type": "markdown",
   "id": "61cb705b-e486-422c-ae9c-143b2d92d2e7",
   "metadata": {},
   "source": [
    "> instructions said to add block quote \n",
    "1.first \n",
    "2.second\n",
    "3.third\n"
   ]
  }
 ],
 "metadata": {
  "kernelspec": {
   "display_name": "Python",
   "language": "python",
   "name": "conda-env-python-py"
  },
  "language_info": {
   "codemirror_mode": {
    "name": "ipython",
    "version": 3
   },
   "file_extension": ".py",
   "mimetype": "text/x-python",
   "name": "python",
   "nbconvert_exporter": "python",
   "pygments_lexer": "ipython3",
   "version": "3.7.12"
  }
 },
 "nbformat": 4,
 "nbformat_minor": 5
}
